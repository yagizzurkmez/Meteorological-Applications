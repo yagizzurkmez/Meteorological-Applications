{
 "cells": [
  {
   "cell_type": "code",
   "execution_count": 344,
   "id": "8d0f02e2-23a5-4e0e-89d5-21a29fe87f6f",
   "metadata": {},
   "outputs": [],
   "source": [
    "# Dynamic Scrapping\n",
    "\n",
    "#@author: yagizcanurkmez\n"
   ]
  },
  {
   "cell_type": "code",
   "execution_count": 295,
   "id": "f730c36d-1d18-4868-9b5f-5764ea1d1c42",
   "metadata": {},
   "outputs": [],
   "source": [
    "from selenium import webdriver\n",
    "from selenium.webdriver.common.by import By\n",
    "from selenium.webdriver.support.select import Select"
   ]
  },
  {
   "cell_type": "code",
   "execution_count": 296,
   "id": "f9ee3236-b14d-4103-b74e-dce44264fdf3",
   "metadata": {},
   "outputs": [],
   "source": [
    "url = 'https://weather.uwyo.edu/upperair/naconf.html'\n",
    "driver = webdriver.Chrome()\n",
    "driver.get(url)"
   ]
  },
  {
   "cell_type": "code",
   "execution_count": 297,
   "id": "0a7f2cd1-d4d4-455b-8365-d748800d0bba",
   "metadata": {},
   "outputs": [],
   "source": [
    "table = driver.find_element(By.TAG_NAME,\"table\")\n",
    "table_body = table.find_element(By.TAG_NAME,\"tbody\")\n",
    "table_rows = table_body.find_elements(By.TAG_NAME,\"tr\")"
   ]
  },
  {
   "cell_type": "code",
   "execution_count": 298,
   "id": "48ab8277-79b5-486a-a542-a1ab54725bdb",
   "metadata": {},
   "outputs": [],
   "source": [
    "#print(table_body.text)"
   ]
  },
  {
   "cell_type": "code",
   "execution_count": 299,
   "id": "15802ac4-23fe-4f5e-82c0-ed2c9130834b",
   "metadata": {},
   "outputs": [],
   "source": [
    "for row in table_rows:\n",
    "    table_data = row.find_elements(By.TAG_NAME, \"td\")\n",
    "    row_data=[]\n",
    "    for data in table_data:\n",
    "        row_data.append(data.text)\n",
    "    #print(row_data)\n",
    "    "
   ]
  },
  {
   "cell_type": "code",
   "execution_count": 300,
   "id": "f4194939-8e1c-415e-a8af-0469e560f46b",
   "metadata": {},
   "outputs": [],
   "source": [
    "#SELECT REGION\n",
    "\n",
    "select_element = Select(driver.find_element(\"name\",\"region\"))\n",
    "select_element.select_by_value(\"europe\") # Change here"
   ]
  },
  {
   "cell_type": "code",
   "execution_count": 301,
   "id": "8941b425-8621-444d-992d-c62eb9b58a87",
   "metadata": {},
   "outputs": [],
   "source": [
    "#SELECT TYPE OF DATA usually is TEXT:LIST\n",
    "select_element = Select(driver.find_element(\"name\",\"TYPE\"))\n",
    "select_element.select_by_value(\"TEXT:LIST\")"
   ]
  },
  {
   "cell_type": "code",
   "execution_count": 302,
   "id": "a37bac8f-3168-4e93-8380-781d84ab3546",
   "metadata": {},
   "outputs": [],
   "source": [
    "#SELECT YEAR\n",
    "year=\"2024\" #Change here\n",
    "select_element = Select(driver.find_element(\"name\",\"YEAR\"))\n",
    "select_element.select_by_visible_text(year)\n"
   ]
  },
  {
   "cell_type": "code",
   "execution_count": 303,
   "id": "e0621e9c-db69-4c45-8d74-e054e0ec7eac",
   "metadata": {},
   "outputs": [],
   "source": [
    "#SELECT MONTH\n",
    "month=\"11\" #Change here\n",
    "select_element = Select(driver.find_element(\"name\",\"MONTH\"))\n",
    "select_element.select_by_value(month)"
   ]
  },
  {
   "cell_type": "code",
   "execution_count": 304,
   "id": "7f1cc60f-be49-480b-802c-bcf4da056a9f",
   "metadata": {},
   "outputs": [],
   "source": [
    "#SELECT FROM\n",
    "day_from = \"01\" #Change here\n",
    "utc_from= \"00\" #Change here\n",
    "select_element = Select(driver.find_element(\"name\",\"FROM\"))\n",
    "select_element.select_by_value(day_from+utc_from) # for ex. the month of the day is 10 and \n",
    "                                       # the time of the radiosonde gone is  00 UTC then value is 1000"
   ]
  },
  {
   "cell_type": "code",
   "execution_count": 305,
   "id": "74b76bff-44d0-463f-ac3a-d57ddda4415e",
   "metadata": {},
   "outputs": [],
   "source": [
    "#SELECT TO\n",
    "day_to=\"05\" #Change here\n",
    "utc_to=\"00\" #Change here\n",
    "select_element = Select(driver.find_element(\"name\",\"TO\"))\n",
    "select_element.select_by_value(day_to+utc_to) # Same as From"
   ]
  },
  {
   "cell_type": "code",
   "execution_count": 306,
   "id": "13192588-fb0e-4915-91af-1c5ed8bc71f2",
   "metadata": {},
   "outputs": [
    {
     "name": "stdout",
     "output_type": "stream",
     "text": [
      "Element found for 17064 : <area coords=\"390,268,5\" shape=\"CIRCLE\" href=\"javascript:g('17064')\" title=\"17064  Istanbul/Kartal\">\n"
     ]
    }
   ],
   "source": [
    "#CLICK ON THE IMAGE and SELECT STATION\n",
    "station_id = '17064'  # Change Here\n",
    "\n",
    "xpath = f\"//area[contains(@href, \\\"g('{station_id}')\\\")]\"\n",
    "try:\n",
    "    element = driver.find_element(By.XPATH, xpath)\n",
    "    element.click()\n",
    "    print(f\"Element found for {station_id} : {element.get_attribute('outerHTML')}\")\n",
    "except:\n",
    "    print(f\"Element cannot found for {station_id} .\")\n"
   ]
  },
  {
   "cell_type": "code",
   "execution_count": 307,
   "id": "f8ec8e4c-6fa9-4d4c-a920-9c6428b64304",
   "metadata": {},
   "outputs": [],
   "source": [
    "all_tabs = driver.window_handles\n",
    "\n",
    "driver.switch_to.window(all_tabs[-1])\n",
    "\n",
    "\n",
    "page_source = driver.page_source\n",
    "#print(page_source)"
   ]
  },
  {
   "cell_type": "code",
   "execution_count": 308,
   "id": "806d6752-ca41-4bbb-ae2d-ae95846b5ac9",
   "metadata": {},
   "outputs": [],
   "source": [
    "from bs4 import BeautifulSoup as bs\n",
    "import re"
   ]
  },
  {
   "cell_type": "code",
   "execution_count": 309,
   "id": "ec865791-ce28-4171-8eef-42009ba2b411",
   "metadata": {},
   "outputs": [],
   "source": [
    "soup = bs(page_source,\"html.parser\")"
   ]
  },
  {
   "cell_type": "code",
   "execution_count": 310,
   "id": "4665266d-360a-44e9-a7a9-e2bac59d343c",
   "metadata": {},
   "outputs": [],
   "source": [
    "#print(soup)"
   ]
  },
  {
   "cell_type": "code",
   "execution_count": 311,
   "id": "78b9e442-4969-4ec7-88dc-efa103b29f2b",
   "metadata": {},
   "outputs": [],
   "source": [
    "indices= soup.find_all(string=re.compile(r\"Station number:\"))"
   ]
  },
  {
   "cell_type": "code",
   "execution_count": 312,
   "id": "e0530909-18a2-4d5f-801a-5f1e79715d36",
   "metadata": {},
   "outputs": [],
   "source": [
    "import pandas as pd"
   ]
  },
  {
   "cell_type": "code",
   "execution_count": 313,
   "id": "cf635011-0d26-4e98-827f-bb8cc0f4b64e",
   "metadata": {},
   "outputs": [],
   "source": [
    "data = []\n",
    "for i in range(0,len(indices)):\n",
    "    for word in indices[i].split(\"\\n\"):\n",
    "        b = word.strip()\n",
    "        #print(b)\n",
    "        data.append(b)\n",
    "    data.remove('')\n",
    "        \n",
    "\n",
    "#print(data)\n",
    "\n",
    "\n"
   ]
  },
  {
   "cell_type": "code",
   "execution_count": 314,
   "id": "b856691c-30f3-4ab6-9f64-11f6c9182a7c",
   "metadata": {},
   "outputs": [],
   "source": [
    "rowss=[]\n",
    "for i in range(0,len(data)):\n",
    "    column_name = data[i].split(\":\")[0]\n",
    "    if ((data[i].split(\":\")[0] != \"Observation time\") and (data[i].split(\":\")[0] != \"Station number\")) :\n",
    "        value=float(data[i].split(\":\")[1])\n",
    "    else:\n",
    "        value=data[i].split(\":\")[1]\n",
    "    rowss.append({column_name:value})"
   ]
  },
  {
   "cell_type": "code",
   "execution_count": 315,
   "id": "a46b93b5-0dec-453c-bee1-707d52b28c36",
   "metadata": {},
   "outputs": [],
   "source": [
    "#print(rowss)"
   ]
  },
  {
   "cell_type": "code",
   "execution_count": 330,
   "id": "0f901749-9989-4623-a8db-ed5ca574cea9",
   "metadata": {},
   "outputs": [
    {
     "name": "stdout",
     "output_type": "stream",
     "text": [
      "{'Station number': [' 17064', ' 17064', ' 17064', ' 17064', ' 17064', ' 17064', ' 17064', ' 17064', ' 17064'], 'Observation time': [' 241101/0000', ' 241101/1200', ' 241102/0000', ' 241102/1200', ' 241103/0000', ' 241103/1200', ' 241104/0000', ' 241104/1200', ' 241105/0000'], 'Station latitude': [40.91, 40.91, 40.91, 40.91, 40.91, 40.91, 40.91, 40.91, 40.91], 'Station longitude': [29.16, 29.16, 29.16, 29.16, 29.16, 29.16, 29.16, 29.16, 29.16], 'Station elevation': [19.0, 19.0, 19.0, 19.0, 19.0, 19.0, 19.0, 19.0, 19.0], 'Showalter index': [8.43, 8.72, 5.39, 8.04, 6.29, 13.32, 13.07, 17.38, 13.95], 'Lifted index': [7.65, 5.84, 5.48, 6.21, 3.49, 12.69, 10.98, 13.16, 12.77], 'LIFT computed using virtual temperature': [7.59, 5.84, 5.37, 6.09, 3.43, 12.75, 11.03, 13.06, 12.75], 'SWEAT index': [64.19, 58.6, 75.62, 45.01, 79.18, 104.0, 59.01, 65.02, 59.01], 'K index': [13.3, -5.5, 7.1, 1.9, 13.9, 10.1, -9.2, -32.9, 5.9], 'Cross totals index': [15.7, 15.7, 17.3, 12.5, 19.1, 12.9, 15.1, -23.1, 12.9], 'Vertical totals index': [22.7, 21.7, 25.3, 25.5, 23.3, 18.9, 18.6, 22.9, 17.7], 'Totals totals index': [38.4, 37.4, 42.6, 38.0, 42.4, 31.8, 33.7, -0.2, 30.6], 'Convective Available Potential Energy': [0.0, 0.0, 0.0, 0.0, 0.0, 0.0, 0.0, 0.0, 0.0], 'CAPE using virtual temperature': [0.0, 0.0, 0.0, 0.0, 0.0, 0.0, 0.22, 0.0, 0.0], 'Convective Inhibition': [0.0, 0.0, 0.0, 0.0, 0.0, 0.0, -35.74, 0.0, 0.0], 'CINS using virtual temperature': [0.0, 0.0, 0.0, 0.0, -44.81, 0.0, -29.26, 0.0, 0.0], 'Bulk Richardson Number': [0.0, 0.0, 0.0, 0.0, 0.0, 0.0, 0.0, 0.0, 0.0], 'Bulk Richardson Number using CAPV': [0.0, 0.0, 0.0, 0.0, 0.0, 0.0, 0.01, 0.0, 0.0], 'Temp [K] of the Lifted Condensation Level': [281.8, 281.05, 284.0, 281.21, 284.18, 272.41, 275.69, 273.9, 276.79], 'Pres [hPa] of the Lifted Condensation Level': [929.42, 874.44, 940.07, 885.14, 944.09, 835.46, 899.81, 854.68, 902.61], 'Equivalent potential temp [K] of the LCL': [309.36, 314.24, 313.87, 313.29, 313.85, 299.38, 298.69, 300.14, 300.71], 'Mean mixed layer potential temperature': [287.78, 292.05, 289.08, 291.21, 288.91, 286.78, 284.15, 286.49, 285.03], 'Mean mixed layer mixing ratio': [7.63, 7.71, 8.76, 7.76, 8.85, 4.39, 5.15, 4.76, 5.55], '1000 hPa to 500 hPa thickness': [5570.0, 5606.0, 5621.0, 5623.0, 5586.0, 5494.0, 5494.0, 5543.0, 5525.0], 'Precipitable water [mm] for entire sounding': [19.53, 19.85, 22.19, 15.79, 21.52, 16.29, 12.63, 10.23, 16.48], 'LFCT using virtual temperature': [849.96, 858.77], 'Equilibrum Level': [848.98], 'Equilibrum Level using virtual temperature': [846.66], 'Level of Free Convection': [852.33]}\n"
     ]
    }
   ],
   "source": [
    "result = {}\n",
    "for d in rowss:\n",
    "    for key, value in d.items():\n",
    "        if key in result:\n",
    "            if isinstance(result[key], list):\n",
    "                result[key].append(value)\n",
    "            else:\n",
    "                result[key] = [result[key], value]\n",
    "        else:\n",
    "            result[key] = [value]\n",
    "print(result)"
   ]
  },
  {
   "cell_type": "code",
   "execution_count": 317,
   "id": "7c4162f1-2221-404a-8e52-7825ac6b72a0",
   "metadata": {},
   "outputs": [],
   "source": [
    "import pandas as pd"
   ]
  },
  {
   "cell_type": "code",
   "execution_count": 336,
   "id": "d06b6cb7-dd2c-4980-8f81-e541cebcdb61",
   "metadata": {},
   "outputs": [
    {
     "name": "stdout",
     "output_type": "stream",
     "text": [
      "{'Station number': [' 17064', ' 17064', ' 17064', ' 17064', ' 17064', ' 17064', ' 17064', ' 17064', ' 17064'], 'Observation time': [' 241101/0000', ' 241101/1200', ' 241102/0000', ' 241102/1200', ' 241103/0000', ' 241103/1200', ' 241104/0000', ' 241104/1200', ' 241105/0000'], 'Station latitude': [40.91, 40.91, 40.91, 40.91, 40.91, 40.91, 40.91, 40.91, 40.91], 'Station longitude': [29.16, 29.16, 29.16, 29.16, 29.16, 29.16, 29.16, 29.16, 29.16], 'Station elevation': [19.0, 19.0, 19.0, 19.0, 19.0, 19.0, 19.0, 19.0, 19.0], 'Showalter index': [8.43, 8.72, 5.39, 8.04, 6.29, 13.32, 13.07, 17.38, 13.95], 'Lifted index': [7.65, 5.84, 5.48, 6.21, 3.49, 12.69, 10.98, 13.16, 12.77], 'LIFT computed using virtual temperature': [7.59, 5.84, 5.37, 6.09, 3.43, 12.75, 11.03, 13.06, 12.75], 'SWEAT index': [64.19, 58.6, 75.62, 45.01, 79.18, 104.0, 59.01, 65.02, 59.01], 'K index': [13.3, -5.5, 7.1, 1.9, 13.9, 10.1, -9.2, -32.9, 5.9], 'Cross totals index': [15.7, 15.7, 17.3, 12.5, 19.1, 12.9, 15.1, -23.1, 12.9], 'Vertical totals index': [22.7, 21.7, 25.3, 25.5, 23.3, 18.9, 18.6, 22.9, 17.7], 'Totals totals index': [38.4, 37.4, 42.6, 38.0, 42.4, 31.8, 33.7, -0.2, 30.6], 'Convective Available Potential Energy': [0.0, 0.0, 0.0, 0.0, 0.0, 0.0, 0.0, 0.0, 0.0], 'CAPE using virtual temperature': [0.0, 0.0, 0.0, 0.0, 0.0, 0.0, 0.22, 0.0, 0.0], 'Convective Inhibition': [0.0, 0.0, 0.0, 0.0, 0.0, 0.0, -35.74, 0.0, 0.0], 'CINS using virtual temperature': [0.0, 0.0, 0.0, 0.0, -44.81, 0.0, -29.26, 0.0, 0.0], 'Bulk Richardson Number': [0.0, 0.0, 0.0, 0.0, 0.0, 0.0, 0.0, 0.0, 0.0], 'Bulk Richardson Number using CAPV': [0.0, 0.0, 0.0, 0.0, 0.0, 0.0, 0.01, 0.0, 0.0], 'Temp [K] of the Lifted Condensation Level': [281.8, 281.05, 284.0, 281.21, 284.18, 272.41, 275.69, 273.9, 276.79], 'Pres [hPa] of the Lifted Condensation Level': [929.42, 874.44, 940.07, 885.14, 944.09, 835.46, 899.81, 854.68, 902.61], 'Equivalent potential temp [K] of the LCL': [309.36, 314.24, 313.87, 313.29, 313.85, 299.38, 298.69, 300.14, 300.71], 'Mean mixed layer potential temperature': [287.78, 292.05, 289.08, 291.21, 288.91, 286.78, 284.15, 286.49, 285.03], 'Mean mixed layer mixing ratio': [7.63, 7.71, 8.76, 7.76, 8.85, 4.39, 5.15, 4.76, 5.55], '1000 hPa to 500 hPa thickness': [5570.0, 5606.0, 5621.0, 5623.0, 5586.0, 5494.0, 5494.0, 5543.0, 5525.0], 'Precipitable water [mm] for entire sounding': [19.53, 19.85, 22.19, 15.79, 21.52, 16.29, 12.63, 10.23, 16.48], 'LFCT using virtual temperature': [849.96, 858.77, None, None, None, None, None, None, None], 'Equilibrum Level': [848.98, None, None, None, None, None, None, None, None], 'Equilibrum Level using virtual temperature': [846.66, None, None, None, None, None, None, None, None], 'Level of Free Convection': [852.33, None, None, None, None, None, None, None, None]}\n"
     ]
    }
   ],
   "source": [
    "max_length = max(len(v) for v in result.values())\n",
    "for key in result:\n",
    "    while len(result[key]) < max_length:\n",
    "        result[key].append(None)\n",
    "\n",
    "print(result)\n",
    "\n",
    "the_indices = pd.DataFrame.from_dict(result)\n"
   ]
  },
  {
   "cell_type": "code",
   "execution_count": 341,
   "id": "8162c117-bc1e-45d1-bff6-547af9efc23e",
   "metadata": {},
   "outputs": [],
   "source": [
    "first_date = day_from+\"_\"+month+\"_\"+year\n",
    "last_date = day_to+\"_\"+month+\"_\"+year\n",
    "the_indices.to_csv(first_date+\"-\"+last_date+\"-\"+station_id+\".csv\")"
   ]
  },
  {
   "cell_type": "code",
   "execution_count": null,
   "id": "0025482c-a4f8-44b0-965c-99af296f36ed",
   "metadata": {},
   "outputs": [],
   "source": []
  }
 ],
 "metadata": {
  "kernelspec": {
   "display_name": "Python 3 (ipykernel)",
   "language": "python",
   "name": "python3"
  },
  "language_info": {
   "codemirror_mode": {
    "name": "ipython",
    "version": 3
   },
   "file_extension": ".py",
   "mimetype": "text/x-python",
   "name": "python",
   "nbconvert_exporter": "python",
   "pygments_lexer": "ipython3",
   "version": "3.11.5"
  }
 },
 "nbformat": 4,
 "nbformat_minor": 5
}
